{
  "nbformat": 4,
  "nbformat_minor": 0,
  "metadata": {
    "colab": {
      "provenance": []
    },
    "kernelspec": {
      "name": "python3",
      "display_name": "Python 3"
    },
    "language_info": {
      "name": "python"
    }
  },
  "cells": [
    {
      "cell_type": "code",
      "execution_count": 3,
      "metadata": {
        "colab": {
          "base_uri": "https://localhost:8080/"
        },
        "id": "sV4s8F41-gCa",
        "outputId": "d3e8d8a6-1157-4b44-f53d-84ca7a1e61b5"
      },
      "outputs": [
        {
          "output_type": "stream",
          "name": "stdout",
          "text": [
            "Collecting streamlit\n",
            "  Downloading streamlit-1.49.0-py3-none-any.whl.metadata (9.5 kB)\n",
            "Requirement already satisfied: altair!=5.4.0,!=5.4.1,<6,>=4.0 in /usr/local/lib/python3.12/dist-packages (from streamlit) (5.5.0)\n",
            "Requirement already satisfied: blinker<2,>=1.5.0 in /usr/local/lib/python3.12/dist-packages (from streamlit) (1.9.0)\n",
            "Requirement already satisfied: cachetools<7,>=4.0 in /usr/local/lib/python3.12/dist-packages (from streamlit) (5.5.2)\n",
            "Requirement already satisfied: click<9,>=7.0 in /usr/local/lib/python3.12/dist-packages (from streamlit) (8.2.1)\n",
            "Requirement already satisfied: numpy<3,>=1.23 in /usr/local/lib/python3.12/dist-packages (from streamlit) (2.0.2)\n",
            "Requirement already satisfied: packaging<26,>=20 in /usr/local/lib/python3.12/dist-packages (from streamlit) (25.0)\n",
            "Requirement already satisfied: pandas<3,>=1.4.0 in /usr/local/lib/python3.12/dist-packages (from streamlit) (2.2.2)\n",
            "Requirement already satisfied: pillow<12,>=7.1.0 in /usr/local/lib/python3.12/dist-packages (from streamlit) (11.3.0)\n",
            "Requirement already satisfied: protobuf<7,>=3.20 in /usr/local/lib/python3.12/dist-packages (from streamlit) (5.29.5)\n",
            "Requirement already satisfied: pyarrow>=7.0 in /usr/local/lib/python3.12/dist-packages (from streamlit) (18.1.0)\n",
            "Requirement already satisfied: requests<3,>=2.27 in /usr/local/lib/python3.12/dist-packages (from streamlit) (2.32.4)\n",
            "Requirement already satisfied: tenacity<10,>=8.1.0 in /usr/local/lib/python3.12/dist-packages (from streamlit) (8.5.0)\n",
            "Requirement already satisfied: toml<2,>=0.10.1 in /usr/local/lib/python3.12/dist-packages (from streamlit) (0.10.2)\n",
            "Requirement already satisfied: typing-extensions<5,>=4.4.0 in /usr/local/lib/python3.12/dist-packages (from streamlit) (4.14.1)\n",
            "Requirement already satisfied: watchdog<7,>=2.1.5 in /usr/local/lib/python3.12/dist-packages (from streamlit) (6.0.0)\n",
            "Requirement already satisfied: gitpython!=3.1.19,<4,>=3.0.7 in /usr/local/lib/python3.12/dist-packages (from streamlit) (3.1.45)\n",
            "Collecting pydeck<1,>=0.8.0b4 (from streamlit)\n",
            "  Downloading pydeck-0.9.1-py2.py3-none-any.whl.metadata (4.1 kB)\n",
            "Requirement already satisfied: tornado!=6.5.0,<7,>=6.0.3 in /usr/local/lib/python3.12/dist-packages (from streamlit) (6.4.2)\n",
            "Requirement already satisfied: jinja2 in /usr/local/lib/python3.12/dist-packages (from altair!=5.4.0,!=5.4.1,<6,>=4.0->streamlit) (3.1.6)\n",
            "Requirement already satisfied: jsonschema>=3.0 in /usr/local/lib/python3.12/dist-packages (from altair!=5.4.0,!=5.4.1,<6,>=4.0->streamlit) (4.25.1)\n",
            "Requirement already satisfied: narwhals>=1.14.2 in /usr/local/lib/python3.12/dist-packages (from altair!=5.4.0,!=5.4.1,<6,>=4.0->streamlit) (2.1.2)\n",
            "Requirement already satisfied: gitdb<5,>=4.0.1 in /usr/local/lib/python3.12/dist-packages (from gitpython!=3.1.19,<4,>=3.0.7->streamlit) (4.0.12)\n",
            "Requirement already satisfied: python-dateutil>=2.8.2 in /usr/local/lib/python3.12/dist-packages (from pandas<3,>=1.4.0->streamlit) (2.9.0.post0)\n",
            "Requirement already satisfied: pytz>=2020.1 in /usr/local/lib/python3.12/dist-packages (from pandas<3,>=1.4.0->streamlit) (2025.2)\n",
            "Requirement already satisfied: tzdata>=2022.7 in /usr/local/lib/python3.12/dist-packages (from pandas<3,>=1.4.0->streamlit) (2025.2)\n",
            "Requirement already satisfied: charset_normalizer<4,>=2 in /usr/local/lib/python3.12/dist-packages (from requests<3,>=2.27->streamlit) (3.4.3)\n",
            "Requirement already satisfied: idna<4,>=2.5 in /usr/local/lib/python3.12/dist-packages (from requests<3,>=2.27->streamlit) (3.10)\n",
            "Requirement already satisfied: urllib3<3,>=1.21.1 in /usr/local/lib/python3.12/dist-packages (from requests<3,>=2.27->streamlit) (2.5.0)\n",
            "Requirement already satisfied: certifi>=2017.4.17 in /usr/local/lib/python3.12/dist-packages (from requests<3,>=2.27->streamlit) (2025.8.3)\n",
            "Requirement already satisfied: smmap<6,>=3.0.1 in /usr/local/lib/python3.12/dist-packages (from gitdb<5,>=4.0.1->gitpython!=3.1.19,<4,>=3.0.7->streamlit) (5.0.2)\n",
            "Requirement already satisfied: MarkupSafe>=2.0 in /usr/local/lib/python3.12/dist-packages (from jinja2->altair!=5.4.0,!=5.4.1,<6,>=4.0->streamlit) (3.0.2)\n",
            "Requirement already satisfied: attrs>=22.2.0 in /usr/local/lib/python3.12/dist-packages (from jsonschema>=3.0->altair!=5.4.0,!=5.4.1,<6,>=4.0->streamlit) (25.3.0)\n",
            "Requirement already satisfied: jsonschema-specifications>=2023.03.6 in /usr/local/lib/python3.12/dist-packages (from jsonschema>=3.0->altair!=5.4.0,!=5.4.1,<6,>=4.0->streamlit) (2025.4.1)\n",
            "Requirement already satisfied: referencing>=0.28.4 in /usr/local/lib/python3.12/dist-packages (from jsonschema>=3.0->altair!=5.4.0,!=5.4.1,<6,>=4.0->streamlit) (0.36.2)\n",
            "Requirement already satisfied: rpds-py>=0.7.1 in /usr/local/lib/python3.12/dist-packages (from jsonschema>=3.0->altair!=5.4.0,!=5.4.1,<6,>=4.0->streamlit) (0.27.0)\n",
            "Requirement already satisfied: six>=1.5 in /usr/local/lib/python3.12/dist-packages (from python-dateutil>=2.8.2->pandas<3,>=1.4.0->streamlit) (1.17.0)\n",
            "Downloading streamlit-1.49.0-py3-none-any.whl (10.0 MB)\n",
            "\u001b[2K   \u001b[90m━━━━━━━━━━━━━━━━━━━━━━━━━━━━━━━━━━━━━━━━\u001b[0m \u001b[32m10.0/10.0 MB\u001b[0m \u001b[31m13.8 MB/s\u001b[0m eta \u001b[36m0:00:00\u001b[0m\n",
            "\u001b[?25hDownloading pydeck-0.9.1-py2.py3-none-any.whl (6.9 MB)\n",
            "\u001b[2K   \u001b[90m━━━━━━━━━━━━━━━━━━━━━━━━━━━━━━━━━━━━━━━━\u001b[0m \u001b[32m6.9/6.9 MB\u001b[0m \u001b[31m38.5 MB/s\u001b[0m eta \u001b[36m0:00:00\u001b[0m\n",
            "\u001b[?25hInstalling collected packages: pydeck, streamlit\n",
            "Successfully installed pydeck-0.9.1 streamlit-1.49.0\n"
          ]
        }
      ],
      "source": [
        "pip install streamlit\n"
      ]
    },
    {
      "cell_type": "code",
      "source": [
        "import subprocess, threading, queue, json\n",
        "\n",
        "event_queue = queue.Queue()\n",
        "\n",
        "def stm32_listener():\n",
        "    proc = subprocess.Popen(\n",
        "        [\"python\", \"virtual_stm32.py\"],\n",
        "        stdout=subprocess.PIPE, stderr=subprocess.PIPE, text=True\n",
        "    )\n",
        "    for line in proc.stdout:\n",
        "        try:\n",
        "            evt = json.loads(line.strip())\n",
        "            event_queue.put(evt)\n",
        "        except Exception:\n",
        "            continue\n",
        "\n",
        "threading.Thread(target=stm32_listener, daemon=True).start()\n",
        "\n",
        "def process_events(conn):\n",
        "    conn = sqlite3.connect(\"simulation.db\")\n",
        "    cur = conn.cursor()\n",
        "    while not event_queue.empty():\n",
        "        evt = event_queue.get()\n",
        "        ts = evt.get(\"ts\")\n",
        "        event = evt.get(\"event\")\n",
        "        payload = evt.get(\"payload\")\n",
        "        cur.execute(\"INSERT INTO stm32_events(ts,event,payload) VALUES (?,?,?)\",\n",
        "                    (ts, event, json.dumps(payload)))\n",
        "\n",
        "        # React to \"device_present\"\n",
        "        if event == \"device_present\":\n",
        "            model = \"STM32-USB\"\n",
        "            cap = 32\n",
        "            insert_device(conn, model, cap)   # reuse insert_device()\n",
        "        conn.commit()\n"
      ],
      "metadata": {
        "id": "yUaiw7UCAsO2"
      },
      "execution_count": 7,
      "outputs": []
    },
    {
      "cell_type": "code",
      "source": [
        "import sqlite3, heapq\n",
        "\n",
        "DB_NAME = \"simulation.db\"\n",
        "\n",
        "# ---------------- Database Functions ----------------\n",
        "def create_database():\n",
        "    conn = sqlite3.connect(DB_NAME)\n",
        "    cursor = conn.cursor()\n",
        "    cursor.execute('''\n",
        "    CREATE TABLE IF NOT EXISTS events (\n",
        "        id INTEGER PRIMARY KEY AUTOINCREMENT,\n",
        "        name TEXT NOT NULL,\n",
        "        time INTEGER NOT NULL,\n",
        "        status TEXT NOT NULL\n",
        "    )\n",
        "    ''')\n",
        "    conn.commit()\n",
        "    conn.close()\n",
        "\n",
        "def insert_event(name, time, status):\n",
        "    conn = sqlite3.connect(DB_NAME)\n",
        "    cursor = conn.cursor()\n",
        "    cursor.execute(\"INSERT INTO events (name, time, status) VALUES (?, ?, ?)\", (name, time, status))\n",
        "    conn.commit()\n",
        "    conn.close()\n",
        "\n",
        "def fetch_events():\n",
        "    conn = sqlite3.connect(DB_NAME)\n",
        "    cursor = conn.cursor()\n",
        "    cursor.execute(\"SELECT * FROM events ORDER BY time ASC\")\n",
        "    rows = cursor.fetchall()\n",
        "    conn.close()\n",
        "    return rows\n",
        "\n",
        "# ---------------- Event Class ----------------\n",
        "class Event:\n",
        "    def __init__(self, name, time):\n",
        "        self.name = name\n",
        "        self.time = time\n",
        "        self.status = \"Scheduled\"\n",
        "\n",
        "    def execute(self):\n",
        "        self.status = \"Completed\"\n",
        "        return f\"Event {self.name} executed at time {self.time}\"\n",
        "\n",
        "# ---------------- Simulation Class ----------------\n",
        "class Simulation:\n",
        "    def __init__(self):\n",
        "        self.current_time = 0\n",
        "        self.event_queue = []\n",
        "\n",
        "    def schedule_event(self, event):\n",
        "        heapq.heappush(self.event_queue, (event.time, event))\n",
        "        insert_event(event.name, event.time, event.status)\n",
        "\n",
        "    def process_events(self):\n",
        "        while self.event_queue:\n",
        "            time, event = heapq.heappop(self.event_queue)\n",
        "            self.current_time = time\n",
        "            result = event.execute()\n",
        "            insert_event(event.name, event.time, event.status)\n",
        "            print(result)\n",
        "\n",
        "# ---------------- Run Simulation ----------------\n",
        "if __name__ == \"__main__\":\n",
        "    create_database()\n",
        "\n",
        "    sim = Simulation()\n",
        "    sim.schedule_event(Event(\"Start Process\", 5))\n",
        "    sim.schedule_event(Event(\"Check Status\", 10))\n",
        "    sim.schedule_event(Event(\"Finish Process\", 15))\n",
        "\n",
        "    sim.process_events()\n",
        "\n",
        "    print(\"\\n--- Events Stored in Database ---\")\n",
        "    for row in fetch_events():\n",
        "        print(row)\n"
      ],
      "metadata": {
        "colab": {
          "base_uri": "https://localhost:8080/"
        },
        "id": "ucGpg_pHDqpT",
        "outputId": "8af7901c-9aaa-4ab5-8040-992a357f6c5c"
      },
      "execution_count": 11,
      "outputs": [
        {
          "output_type": "stream",
          "name": "stdout",
          "text": [
            "Event Start Process executed at time 5\n",
            "Event Check Status executed at time 10\n",
            "Event Finish Process executed at time 15\n",
            "\n",
            "--- Events Stored in Database ---\n",
            "(1, 'Start Process', 5, 'Scheduled')\n",
            "(4, 'Start Process', 5, 'Completed')\n",
            "(2, 'Check Status', 10, 'Scheduled')\n",
            "(5, 'Check Status', 10, 'Completed')\n",
            "(3, 'Finish Process', 15, 'Scheduled')\n",
            "(6, 'Finish Process', 15, 'Completed')\n"
          ]
        }
      ]
    }
  ]
}